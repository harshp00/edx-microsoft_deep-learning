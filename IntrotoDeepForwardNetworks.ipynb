{
  "cells": [
    {
      "metadata": {},
      "cell_type": "markdown",
      "source": "# Deep Learning Explained\n\n# Module 3 - Lab - Introduction to Deep Neural Networks \n\n## 1.0 Overview\n\nThis lesson introduces you to the basics of neural network architecture in the form of deep forward networks. This architecture is the quintessential deep neural net architecture. In this lab you will learn the following:\n\n- Why is deep learning important and how it relates to representation, learning and inference.\n- How a basic preceptron works.\n- How to apply different types of loss functions. \n- Understand why nonlinear activation is important and why rectified linear units are a good choice.\n- How back propagation works, and how you apply the chain rule of calculus to determine gradient. \n- Understand the architectural trade-off between depth and width in deep networks."
    },
    {
      "metadata": {},
      "cell_type": "markdown",
      "source": "### 1.1 Why is deep learning important?\n\nDeep learning methods are a form of **artificial intelligence (AI)** or **machine intelligence**. More specifically, deep learning algorithms are a type of **machine learning**. \n\nWhat properties does machine intelligence require? There have been many answers to this question over the history of computing. In this case, we will take a practical view, sometimes known as **weak AI**. There are three key properties an intelligent machine must have; a **representation** for the AI model, **inference** for the output of the model, and **learning** to train the model. The figure below shows a highly abstracted view of machine intelligence, showing the relationship between representation, learning and inference. \n\n<img src=\"img/MachineIntelligence.jpg\" alt=\"Drawing\" style=\"width:600px; height:300px\"/>\n\n<center>**Schematic view of machine intelligence**</center>\n\n**That's it!** The entire rest of this course will focus on just these three points: representation, learning and inference!"
    },
    {
      "metadata": {},
      "cell_type": "markdown",
      "source": "## 2.0 Forward propagation: The representation problem\n\nTo create useful neutral network we need a **representation** that has two important properties.   \n\nFirst, there needs to be a way to represent complex functions of the input. Without this property, nothing is gained, since there are numerous machine learning algorithms that work with simple representations. We will spend the rest of this section exploring this problem.   \n\nSecond, the representation needs to be **learnable**. Quite obviously, no machine intelligence representation is useful if there is not a practical algorithm to learn it. We will take up this problem in another section. "
    },
    {
      "metadata": {},
      "cell_type": "markdown",
      "source": "### 2.1 Linear networks\n\nLet's start with the simplest possible network. It has inputs, and an output. The output is a **afine transformation** of the input values. We say this network performs an afine transformation since there is a bias term $b$. \n\n\n<img src=\"img/LinearNetwork.jpg\" alt=\"Drawing\" style=\"width:400px; height:250px\"/>\n\n<center>**Figure 2.1**\n**A simple afine network**</center>\n\nThis output $y$ of this network is just:\n\n$$y = f(x) = \\sum_i w_i \\cdot x_i + b$$\n\nThis network performs linear regression. Being able to perform only afine transformations, it can't do anything else. \n\nThis representation is certainly learnable. However, it does not gain us anything over familiar linear regression methods. "
    },
    {
      "metadata": {},
      "cell_type": "markdown",
      "source": "### 2.2 The preceptron"
    },
    {
      "metadata": {
        "collapsed": true
      },
      "cell_type": "markdown",
      "source": "To get started, let's have a look at a simple **preceptron** model. The perceptron was proposed by Rosenblatt (1962). He built on the earlier attempts at a neural network models by McCulloch and Pitts (1943) and Heeb (1949). The perceptron adds **nonliner activation** to the afine network. \n\n\n<img src=\"img/Preceptron.jpg\" alt=\"Drawing\" style=\"width:350px; height:250px\"/>\n<center>**Figure 2.2 Schematic of perceptron with nonlinear activation**</center>\n\nThe output $y$ of the perceptron is given by the following:\n\n$$y = f(x) = \\sigma \\Big( \\sum_i w_i \\cdot x_i + b \\Big)$$\n\nThe output of the network is now nonlinear, give the **activation function** $\\sigma(x)$. \n\nBut, the preceptron is nothing more than a logistic regression classifier. The fact that the preceptron could only solve linearly separable problems was pointed out by Minsky and Papert (1969). The failure of the preceptron to learn an **exclusive or (XOR)** function is well known. See for example, Section 6.1 in GBC. \n\nAgain, this representation is certainly learnable. However, as before, it does not gain us anything over well known logistic regression models."
    },
    {
      "metadata": {},
      "cell_type": "markdown",
      "source": "### 2.3 Forward networks - A better representation!\n\nThe problem with the  perceptron is one of representation. There is no way that this simple network can represent anything but a linearly separable function. To represent more complex functions, we need a more complex network. In more technical terms we need a network with greater **model capacity**. \n\nWhat we need is a network with layers of **hidden nodes** with nonlinear activation. The figure below shows a simple example of a neural network with one **hidden layer** with two nodes. Since every node (including inputs) is connected to every other node we call this architecture a **fully connected neural network**.\n\n\n<img src=\"img/Hidden.jpg\" alt=\"Drawing\" style=\"width:600px; height:350px\"/>\n<center>**Figure 2.3  \nFully connected neural network with single hidden layer**</center>\n\nLet's walk through some aspects of these diagrams. \n\n1. The neural network is divided into three layers. The input layer, the hidden layer and the output layer. \n2. The values in the input layer are multiplied by a weight matrix, $W^1$.\n3. The nodes in the hidden layer sum their inputs and add a bias term, $b^1$. \n4. The outputs of the hidden layer nodes are multiplied by a weight vector, $W^2$.\n5. The output layer sums the inputs and adds another bias term, $b^2$."
    },
    {
      "metadata": {},
      "cell_type": "markdown",
      "source": "### 2.4 Neural network architectures - Finding representations\n\nThe representations achievable by neural network with just a single hidden layer  are quite powerful. In fact, Cybenko (1989) showed that such a network with an infinite number of hidden units using sigmoidal activation can approximate any arbitrary function. Hornik (1991) generalized this to apply to any activation function. We call this theorem the **universal approximation theorem**.  \n\nA universal approximation theorem may seem like a really exciting development; especially if you are a machine intelligence nerd. However, one must be circumspect when viewing such a result. A representation with an infinite number of nodes cannot be learned in any practical sense. Still it is comforting to know that, at least in principle, a representation can be learned for arbitrarily complex problems. \n\nWhile infinitely wide networks with a single layer are unrealistic, we are not limited to one layer. In fact, depth is typically more effective at creating complex representations rather than width in neural networks. Depth is measured by the count of hidden layers stacked one on top of the other in the network. Hence, the term deep neural networks. \n\nThe Figure 2.4 below shows the results of an empirical study by Goodfellow, Shlens and Szegedy (2014) of accuracy of the network vs depth. Notice that accuracy increases rapidly with depth until about 8 layers, after which the effect is reduced. \n\n\n<img src=\"img/Accuracy-Layers.jpg\" alt=\"Drawing\" style=\"width:600px; height:350px\"/>\n<center>**Figure 2.4 Empirical results of accuracy vs. number of layers**  \nDiagram from Goodfellow et. al. 2014</center>\n\nAnother view of the empirical study by Goodfellow et. al. is shown in Figure 2.5 below. In this case accuracy verses number of model parameters is compared for three different network architectures. The deeper network (11 layers) makes more  efficient use of the parameters in terms of improved accuracy. The number of parameters in a layer is approximately the total number of parameters divided by the number of layers. Notice that for the particular case tested convolutional neural networks are more efficient than fully-connected networks. We will discuss convolutional neural networks in a subsequent lesson. \n\nOf particular interest is the fact that the fully-connected network and the shallow convolutional neural network appear to be over-fitting as the test accuracy actually decreases as the number of parameters increases. We will discuss the significant problems of over-fitting in neural networks in a subsequent lesson. \n\n\n<img src=\"img/Accuracy-Parameters.jpg\" alt=\"Drawing\" style=\"width:600px; height:350px\"/>\n<center>**Figure 2.5 Empirical results of accuracy for different network architectures**  \nDiagram from Goodfellow et. al. 2014</center>\n\n**Summary:** Deep networks tend to produce better models, with less tendency to over-fit, for a given level of complexity. "
    },
    {
      "metadata": {
        "collapsed": true
      },
      "cell_type": "markdown",
      "source": "### 2.6 Activation functions\n\nWithout a nonlinear activation function, a neural net is just an afine transformation. Afine transformations limit representation to only linearly separable functions. To create more general representations **nonlinear activation functions** are required. \n\nIn present practice, four types of activation functions are generally used for fully connected networks. \n\n1. **Linear** activation is used for the output layer of regression neural networks. \n2. The **rectilinear** activation function is used for most hidden units. The rectilinear activation function is often referred to as **ReLU**.\n3. A **leaky rectilinear** activation acts like a ReLU function for positive inputs, but has a small negative value or leakage for negative input values. The leaky ReLU activation function can improve training for some deep neural networks, as the derivative is not zero below 0. \n3. The **logistic** or **sigmoid** activation function is used for binary classifiers.\n4. The **softmax** activation function is used for multi-class classifiers. \n\nRectilinear functions are typically used as the activation function for hidden units in neural networks. The rectilinear function is defined at:\n\n$$f(x) = max(0, x)$$\n\nThe rectilinear function is linear for positive responses and zero for responses less than 0.0. Notice that the derivatives of the rectilinear function are not continuous. While this might seem to be a problem, in practice, even gradient-based optimization functions work well with this activation function. \n\nThe rectilinear function is plotted in the cell below:"
    },
    {
      "metadata": {
        "trusted": true
      },
      "cell_type": "code",
      "source": "%matplotlib inline\nimport matplotlib.pyplot as plt\nimport seaborn as sns\n## Compute the lectilinear function\ndef reclu(x): return(max(0,x))\nx = [float(x)/100 for x in range(-100, 100)]\ny = [reclu(y) for y in x]\n## Plot the result\ndef plot_figs(x,y,title, figsize = (4, 3)):\n    plt.figure(figsize=figsize).gca() # define axis\n    sns.set_style(\"darkgrid\")\n    plt.plot(x, y)\n    plt.ylim((-0.1,1.0))\n    plt.title(title)\n    plt.xlabel('X')\n    plt.ylabel('Y')\nplot_figs(x,y,'The Rectilinear Function')    ",
      "execution_count": 1,
      "outputs": [
        {
          "output_type": "stream",
          "text": "/home/nbuser/anaconda3_420/lib/python3.5/site-packages/matplotlib/font_manager.py:281: UserWarning: Matplotlib is building the font cache using fc-list. This may take a moment.\n  'Matplotlib is building the font cache using fc-list. '\n",
          "name": "stderr"
        },
        {
          "output_type": "display_data",
          "data": {
            "image/png": "[encoded data removed]",
            "text/plain": "<matplotlib.figure.Figure at 0x7fc04337fcf8>"
          },
          "metadata": {}
        }
      ]
    },
    {
      "metadata": {},
      "cell_type": "markdown",
      "source": "Another widely used activation function is the **logistic** or **sigmoid**. The sigmoid is used as the activation for the output layer of a binary classifier. The general sigmoid function can be written as:\n\n$$\\sigma(x) = \\frac{L}{1 + e^{-k(x_0-x)}}\\\\\nwhere\\\\\nL = max\\ value\\\\\nk = slope\\\\\nx_0 = sigmoid\\ midpoint$$\n\nWith $L=1$, $k=1$, and $x_0 = 0$, the logistic function becomes: \n\n$$\\sigma(x) = \\frac{1}{1 + e^{-x}} = \\frac{e^x}{1+e^x}$$\n\nThe sigmoid function can asymptotically approach $0$ or $1$, but will never reach these extreme values. However, because of the rapid decrease in the derivative away from $0$ the sigmoid can **saturate** when using gradient-based training. For this reason, the sigmoid is typically not used for hidden layers in neural networks.   \n\nWhen used in a binary classifier a threshold is set to determine if the result is $0$ or $1$. The threshold can be adjusted to bias the result as desired. \n\nThe code in the cell below plots the sigmoid function. "
    },
    {
      "metadata": {
        "scrolled": true,
        "trusted": true
      },
      "cell_type": "code",
      "source": "from math import exp\ndef sigmoid(x): return exp(x)/(1 + exp(x))\nx = [float(x)/100 for x in range(-700, 700)]\ny = [sigmoid(y) for y in x]\nplot_figs(x,y,'The Logistic Function', figsize = (5,3))    ",
      "execution_count": 2,
      "outputs": [
        {
          "output_type": "display_data",
          "data": {
            "image/png": "[encoded data removed]",
            "text/plain": "<matplotlib.figure.Figure at 0x7fc0433e4518>"
          },
          "metadata": {}
        }
      ]
    },
    {
      "metadata": {
        "collapsed": true
      },
      "cell_type": "markdown",
      "source": "The **softmax** function or **normalized exponential function** is used for the output activation function of a multi-class classifiers. The softmax function is the multinomial generalization of the sigmoid or logistic function. The probability of each class $j$ is written as: \n\n$$\\sigma(z_j) = \\frac{e^{z_j}}{\\sum_{k=1}^K e^{z_k}}$$\n\nThe normalization $\\sum_{k=1}^K e^{z_k}$ ensures the sum of probabilities for all classes add to $1.0$. The class selected by the classifier is the class with the largest value of $\\sigma(z_j)$."
    },
    {
      "metadata": {},
      "cell_type": "markdown",
      "source": "### 2.7 Computational example\n\nNow that we have gone though some basic theory for feed-forward networks, let's try a simple example. We will construct a fully connected network to compute this simple function:\n\n$$y = x_1 - x_2$$\n\n****\n**Comment.** You have likely noticed that this function is linear and can be computed easily without a neural network. Of course, that is not the point. We use a simple function to make the results easy to understand. \n****\n\n****\n**Note.** The neural network for this example does not require any bias terms. \n****\n\nAs a first step, we will create test data for 3 cases; $x_1 > x_2$, $x_1 = x_2$, and $x_1 <x_2$"
    },
    {
      "metadata": {
        "trusted": true
      },
      "cell_type": "code",
      "source": "x = [(2,1), (1,1), (1,2)]\nfor x_in in x:\n    print(x_in[0] - x_in[1])",
      "execution_count": 3,
      "outputs": [
        {
          "output_type": "stream",
          "text": "1\n0\n-1\n",
          "name": "stdout"
        }
      ]
    },
    {
      "metadata": {},
      "cell_type": "markdown",
      "source": "Now that we have our test data and test cases we can move to the next step. We will create the first weight tensor."
    },
    {
      "metadata": {
        "trusted": true
      },
      "cell_type": "code",
      "source": "import numpy as np\nW_1 = np.array([[1.0, -1.0], [-1.0, 1.0]])\nprint(W_1)",
      "execution_count": 4,
      "outputs": [
        {
          "output_type": "stream",
          "text": "[[ 1. -1.]\n [-1.  1.]]\n",
          "name": "stdout"
        }
      ]
    },
    {
      "metadata": {},
      "cell_type": "markdown",
      "source": "We also need the weight tensor, for the second set of weights. "
    },
    {
      "metadata": {
        "trusted": true
      },
      "cell_type": "code",
      "source": "W_2 = np.array([1, -1])\nprint(W_2)",
      "execution_count": 5,
      "outputs": [
        {
          "output_type": "stream",
          "text": "[ 1 -1]\n",
          "name": "stdout"
        }
      ]
    },
    {
      "metadata": {},
      "cell_type": "markdown",
      "source": "We have the input test cases and the network weights. Now, it is time to compute the results and check them. The code in the cell below performs the feed forward network computation. The first function computes the matrix product of the weights with the input tensor and applies a rectilinear activation function. This function computes the output of the hidden layer given the input tensor. \n\n$$h = \\sigma(W^1 \\cdot x)$$\n\nThe second function computes the vector product of the weight tensor with the output tensor of the hidden layer which is the output of the network: \n\n$$o = W^2 \\cdot h$$"
    },
    {
      "metadata": {
        "trusted": true
      },
      "cell_type": "code",
      "source": "def hidden(x, W):\n    \"\"\"Computes the output of the hidden layer\"\"\"\n    h = np.dot(W, x) # product of weights and input vector\n    return np.array([reclu(x) for x in h]) # apply activation function and return\n\ndef output(h, W):\n    \"\"\"Computes the result for the hidden layer\"\"\"\n    return np.dot(W, h) # dot product of weight vector and input vector\n    \n## Run the test cases and check the results     \nfor y in x:\n        h = hidden(y, W_1)\n        print(output(h, W_2))",
      "execution_count": 6,
      "outputs": [
        {
          "output_type": "stream",
          "text": "1.0\n0\n-1.0\n",
          "name": "stdout"
        }
      ]
    },
    {
      "metadata": {},
      "cell_type": "markdown",
      "source": "Our first fully connected neural network passes all the tests!\n\nNotice that even a network to compute a simple function requires 6 weights. You can see that for more complex functions any practical algorithm must learn a large number of weights. The limitations of Numpy would quickly become evident for large scale problems involving hundreds of millions of weights. \n"
    },
    {
      "metadata": {},
      "cell_type": "markdown",
      "source": "*******\n**Exercise 1:** The first simple neural network worked as intended. But, what happens if you change the activation of the hidden units? In the cell below, modify the code from the previous example to use sigmodial activation. Use an expanded set of test cases `[(3,1), (2,1), (1,1), (1,2), (1,3)]`. \n*******"
    },
    {
      "metadata": {
        "trusted": true
      },
      "cell_type": "code",
      "source": "x = [(3,1), (2,1), (1,1), (1,2), (1,3)]\ndef hidden(x, W):\n    \"\"\"Computes the output of the hidden layer\"\"\"\n    h = np.dot(W, x) # product of weights and input vector\n    return np.array([sigmoid(x) for x in h]) # apply activation function and return\n\ndef output(h, W):\n    \"\"\"Computes the result for the hidden layer\"\"\"\n    return np.dot(W, h) # dot product of weight vector and input vector\n    \n## Run the test cases and check the results     \nfor y in x:\n        h = hidden(y, W_1)\n        print(output(h, W_2))\n",
      "execution_count": 10,
      "outputs": [
        {
          "output_type": "stream",
          "text": "0.7615941559557649\n0.4621171572600098\n0.0\n-0.4621171572600098\n-0.7615941559557649\n",
          "name": "stdout"
        }
      ]
    },
    {
      "metadata": {},
      "cell_type": "markdown",
      "source": "How have the output values changed? Did you need to update the output weight tensor values to get a better approximation of the function? "
    },
    {
      "metadata": {},
      "cell_type": "markdown",
      "source": "## 3.0 Learning in neural networks: Backpropagation\n\nNow that we have a promising representation, we need to determine if it is trainable. The answer is not only yes we can, but that we can do so in a computationally efficient manner, using a cleaver algorithm known as **backpropagation**. \n\nThe backpropagation algorithm was developed independently multiple times. The earliest work on this algorithm was by Kelly (1960) in the context of control theory and Bryson (1961) in the context of dynamic programming. Rumelhart, Hinton and Williams (1986) demonstrated empirically that backpropagation can be used to train neural networks. Their paper marks the start of the modern history of neural networks, and set off the first wave of enthusiasm. \n\nThe backpropagation algorithm requires several components. First, we need a **loss function** to measure how well our representation matches the function we are trying to learn. Second, we need a way to propagate changes in the representation through the complex network For this we will use the **chain rule of calculus** to compute **gradients** of the representation. In the general case, this process requires using automatic differentiation methods. \n\nThe point of backpropagration is to learn the optimal weight for the neural network. The algorithm proceeds iteratively through a series of small steps. Once we have the gradient of the loss function we can update the tensor of weights.\n\n$$W_{t+1} = W_t + \\alpha \\nabla_{W} J(W_t) $$  \nwhere  \n$W_t = $ the tensor of weights or model parameters at step $t$.   \n$\\alpha\\ = $ step size or learning rate.  \n$J(W) = $ loss function given the weights.  \n$\\nabla_{W} J(W) = $ gradient of $J$ with respect to the weights $W$.  \n\nIt should be evident that the back propagation algorithm is a form of gradient decent. The weights are updated in small steps following the gradient of $J(W)$ down hill. \n\nFinally, we need a way evaluate the performance of the model. Without evaluation metrics we have no way to compare the performance of a given model, or compare the performance of several models. \n\nIn the next sections, we will address each of loss functions, gradient computation and performance measurement. "
    },
    {
      "metadata": {},
      "cell_type": "markdown",
      "source": "### 3.1 Loss functions\n\nTo train a neural network we must have a **loss function**, also known as a **cost function**. In simple terms, the loss function measures the fit of a model to the training data. The lower the loss, the better the fit. \n\nTo train deep learning models **cross entropy** is often used as a loss function. This is an information theoretic measure of model fit. We can understand cross entropy as follows. \n\nFirst define **Shannon entropy** as:\n\n$$\\mathbb{H}(I) = E[I(X)] = E[-ln_b(P(X))] = - \\sum_{i=1}^n P(x_i) ln_b(P(x_i)$$  \nWhere:  \n$E[X] = $ the expectation of $X$.  \n$I(X) = $ the information content of $X$.   \n$P(X) = $ probability of $X$.  \n$b = $ base of the logarithm.    \n\nThis rather abstract formula gives us a way to compute the expected information content of a set of values $X$. The more likely (higher probability) of $X$ the less informative it is. \n\nTo create a loss function from the definition of Shannon entropy we start with the **Kullback-Leibler divergence (KL divergence)** or **relative entropy**. The KL divergence is an information theoretic measure of the difference between two distributions, $P(X)$ and $Q(X)$.\n\n$$\\mathbb{D}_{KL}(P \\parallel Q) = - \\sum_{i=1}^n p(x_i)\\ ln_b \\frac{p(x_i)}{q(x_i)}$$\n\nIdeally, in the case of training a machine learning model we want a distribution $Q(X)$, which is identical to the actual data distribution $P(X)$. \n\nBut, you may say, if we could know $P(X)$ why compute $Q(X)$ at all? Fortunately, we do not have to. We can rewrite the KL divergence as:\n\n$$\\mathbb{D}_{KL}(P \\parallel Q) = \\sum_{i=1}^n p(x_i)\\ ln_b p(x_i) - \\sum_{i=1}^n p(x_i)\\ ln_b q(x_i)$$\n\nSince $P(X)$ is fixed and we wish to find $Q(X)$ when we train our model, we can minimize the term on the right, which is the **cross entropy** defined as:\n\n$$\\mathbb{H}(P,Q) = - \\sum_{i=1}^n p(x_i)\\ ln_b q(x_i)$$\n\nFrom the formulation of KL divergence above you can see the following.\n\n$$\\mathbb{D}_{KL}(P \\parallel Q) = \\mathbb{H}(P) + \\mathbb{H}(P,Q)\\\\\n\\mathbb{D}_{KL}(P \\parallel Q) = Entropy(P) + Cross\\ Entropy(P,Q)$$\n\nThus, we can minimize divergence by minimizing cross entropy. This idea is both intuitive and computationally attractive. The closer the estimated distribution $q(X)$ is to the distribution of the true underling process $p(X)$, the lower the cross entropy and the lower the KL divergence. \n\nIn general we will not know $p(X)$. In fact, if we did, why would we need to solve a training problem? So, we can use the following approximation.\n\n$$\\mathbb{H}(P,Q) = - \\frac{1}{N} \\sum_{i=1}^n ln_b q(x_i)$$\n\nYou may notice, that this approximation, using the average log likelihood, is equivalent to a maximum likelihood estimator (MLE). "
    },
    {
      "metadata": {},
      "cell_type": "markdown",
      "source": "### 3.2 Cross Entropy for Gaussian Likelihood\n\nLet's look at a specific case of a model with Gaussian likelihood. What is the cross entropy? We can start by thinking about the definition of likelihood. \n\n$$p(data|model) = p(data|f(\\theta)) = p(x_i|f(\\hat{\\mu},\\sigma))= \\frac{1}{2 \\pi \\sigma^2} e^{\\frac{-(x_i - \\hat{\\mu})^2}{2 \\sigma^2}}$$\n\nWe take the negative logarithm of this likelihood model. \n\n$$-log\\big(p(data|model) \\big) = - \\frac{1}{2}\\big( log( 2 \\pi \\sigma^2) + \\frac{(x_i - \\hat{\\mu})^2}{2 \\sigma^2} \\big)$$\n\nNow, the first term on the right is a constant, as is the denominator of the second term if we assume known variance. Since our goal is to minimize cross entropy, we can eliminate these quantities and be left with just the following.\n\n$$-(x_i - \\hat{\\mu})^2$$\n\nThis is one issue we need to deal with. Our formulation of cross entropy involves the unknown true distribution of the underling process $p(X)$. However, since $p(x_i)$ is fixed but unknown we can just write the following.\n\n$$min \\big( \\mathbb{H}(P,Q) \\big) \\propto argmin_{\\mu} \\big( - \\sum_{i=1}^n (x_i - \\hat{\\mu})^2 \\big)$$\n\nThis is just the definition of a Maximum Likelihood Estimator (MLE) for the least squares problem! In fact, since the cross entropy is computed using the negative log likelihood, it will always be minimized by the MLE. \n"
    },
    {
      "metadata": {},
      "cell_type": "markdown",
      "source": "### 3.3 Chain rule of calculus\n\nKey to the back propagation algorithm is the chain rule of calculus; not to be confused with the chain rule of probability. The chain rule allows us to back propagate gradients though an arbitrarily complex graph of functions. \n\nNow, suppose there is a function $y = g(x)$, and another function $z = f(y) = f(g(x))$. How do we compute the derivative of $z$ with respect to $x$? Applying the chain rule we get: \n\n$$\\frac{dz}{dx} = \\frac{dz}{dy}\\frac{dy}{dx}$$\n\nConsider $x \\in R^M$ $g(x) \\Rightarrow R^M$ and $ f(y) \\Rightarrow z \\in R$. The chain rule becomes:\n\n$$\\frac{\\partial z}{\\partial x} = \\sum_{j \\in M} \\frac{\\partial z}{\\partial y_j}\\frac{\\partial y_j}{\\partial x_i}$$\n\nWhich we can rewrite as  \n\n$$\\nabla_{x}z = \\Big( \\frac{\\partial x}{\\partial y} \\Big)^T \\nabla_{y}z$$  \n\nHere, $\\frac{\\partial x}{\\partial y}$ is the $n x m$ **Jacobian matrix** of partial derivatives. The Jacobian is multiplied by the gradient with respect to $y$, $\\nabla_{y}z$. You can think of the Jacobian as a transformation for a gradient with respect to $y$ to what we really want, the gradient with respect to $z$."
    },
    {
      "metadata": {},
      "cell_type": "markdown",
      "source": "### 3.4 Example of finding a gradient. \n\nLet's work out backpropagation for a very simple neural network with a single hidden layer with two units. This neural network, including the loss function, is shown in Figure 3.1 below. This network has been highly simplified. There are only three layers, input layer, a two unit hidden layer with no bias terms, and a single unit output layer. There are only two weight tensors for this network. Further, the hidden units use rectilinear activation and the output unit uses linear activation. These activation functions have simple partial derivatives.  \n\n<img src=\"img/LossGraph.jpg\" alt=\"Drawing\" style=\"width:600px; height:300px\"/>\n<center>**Figure 3.1 \nSimple single layer neural network with loss function** </center>\n\nFirst, we need to work out the forward propagation relationships. We can compute the outputs of the hidden layer as follows.\n\n$$S_{\\{1,2\\}} = \\sigma_h \\big( W^1 \\cdot X_{\\{1,2\\}} \\big) = \\sigma \\big( \\sum_j W^1_{i,j} x_j \\big)$$  \n\nIn the same way, the result from the output layer can be computed as follows, since the activation function for this layer is linear. \n\n$$S_3 = W^2 \\cdot S_{\\{1,2\\}} = \\sum_i W^2_i \\sigma \\big( \\sum_j W^1_{i,j} x_j \\big)$$"
    },
    {
      "metadata": {},
      "cell_type": "markdown",
      "source": "To perform backpropagation, we need fill out the gradient vector by computing $\\frac{\\partial J(W)}{\\partial W}$ for each weight in the model. \n\n$$\\frac{\\partial J(W)}{\\partial W} = \n\\begin{bmatrix} \n\\frac{\\partial J(W)}{\\partial W^2_{11}} \\\\\n\\frac{\\partial J(W)}{\\partial W^2_{12}} \\\\\n\\frac{\\partial J(W)}{\\partial W^2_{21}} \\\\\n\\frac{\\partial J(W)}{\\partial W^2_{22}} \\\\\n\\frac{\\partial J(W)}{\\partial W^1_{1}} \\\\\n\\frac{\\partial J(W)}{\\partial W^1_{2}}\n\\end{bmatrix}$$"
    },
    {
      "metadata": {},
      "cell_type": "markdown",
      "source": "To keep things simple in this example we will just use a non-normalized squared error loss function. This is just the MLE estimator (without normalization) for a Gaussian distribution. \n\n$$J(W) = - \\frac{1}{2} \\sum_{l=1}^n (y_l - S_{3,l})^2 $$\n\nWhere:  \n$y_k = $ the label for the lth case.     \n$\\hat{y_k} = S_{3,k} =$ the output of the network for the lth case. \n\nWe want to compute the gradients with respect to the input and output tensors:\n\n$$\\frac{\\partial J(W)}{\\partial W^1}, \\ \\frac{\\partial J(W)}{\\partial W^2}$$"
    },
    {
      "metadata": {},
      "cell_type": "markdown",
      "source": "Let's start with the easier case of the partial derivatives with respect to the output tensor. We can apply the chain rule as follows:\n\n$$\\frac{\\partial J(W)}{\\partial W^2_k} = \\frac{\\partial  J(W)}{\\partial S_{3,k}} \\frac{\\partial S_{3,k}}{\\partial W^2_k}$$\n\nThe first partial derivative of the chain is:\n\n$$\\frac{\\partial J(W)}{\\partial S_{3,k}} = \\frac{\\partial - \\frac{1}{2} (y_k - S_{3,k})^2} {\\partial S_{3,k}} = y_k - S_{3,k} $$\n\nAnd, the second partial derivative in the chain, given the linear activation of the output unit, becomes:\n\n$$\\frac{\\partial S_{3,k}}{\\partial W^2_k} = \\frac{\\partial W^2_k S_{j,k}}{\\partial W^2_k}  = S_{j,l}, \\ j \\in \\{1,2\\}$$\n\nMultiplying the two components of the chain gives us:\n\n$$\\frac{\\partial J(W)}{\\partial W^2_k} = S_{j,k} (y_k - S_{3,k}), \\ j \\in \\{1,2\\} $$"
    },
    {
      "metadata": {},
      "cell_type": "markdown",
      "source": "The partial derivatives with respect to the input tensor are a bit more complicated. To apply the chain rule we must work backwards from the loss function. This gives the following chain:\n\n$$\\frac{\\partial J(W)}{\\partial W^1_{i,j}} =  \\frac{\\partial J(W)}{\\partial S_{3}} \\frac{\\partial S_{3}}{\\partial S_{j}} \\frac{\\partial S_{j}}{\\partial W^1_{i,j}}$$\n\nFirst, we find the right most partial derivative in our chain:\n\n\\begin{equation}\n\\frac{\\partial S_j}{\\partial W^1_{i,j}} = \n\\begin{cases}\n     \\frac {\\partial W^1_{i,j} x_{i,k}}{\\partial W^1_{i,j}}, & \\text{if $S_j>0$} \\\\\n    0, & \\text{otherwise}\n  \\end{cases}\n\\end{equation}\n\nWhich given the ReLU activation results in:\n\n\\begin{equation}\n\\frac{\\partial S_j}{\\partial W^1_{i,j}} = \n\\begin{cases}\n    1, & \\text{if $S_j>0$}  \\\\\n    0, & \\text{otherwise}\n  \\end{cases}\n\\end{equation}\n\n\nThe middle partial derivative must account for the nonlinearity:\n\n$$\\frac{\\partial S_{3}}{\\partial S_{j}} = W^2_j$$\n\nWe have already computed $\\frac{\\partial J(W)}{\\partial S_{3}}$. Multiplying all three partial derivatives we find:\n\n\\begin{equation}\n\\frac{\\partial J(W)}{\\partial W^1_{i,j}} = \n\\begin{cases}\n    (y_k - S_{3,k}) W^2_j, & \\text{if $S_j>0$} \\\\\n    0, & \\text{otherwise}\n  \\end{cases}\n\\end{equation}\n\nWhere $S_3$ and $S_{\\{1,2 \\}} are computed using the relationships given above. \n"
    },
    {
      "metadata": {},
      "cell_type": "markdown",
      "source": "## 4.0 Network for XOR Function\n\nIn an earlier section the work of Minsky and Papert was mentioned. A key failure of the early neural network architectures, such as the perceptron, was the inability to learn function that are not linearly separable. The **exclusive OR** or **XOR** is just such a function. The truth table of the XOR looks like this:\n\n| Input 1 | Input 2 | Output |\n|---------|---------|--------|\n| 0 | 0 | 0|\n| 0 | 1 | 1 |\n| 1 | 0 | 1 |\n| 1 | 1 | 0 |\n\nIn words, the XOR function is 0 if both inputs are the same, or 1 if both inputs are different. Hence, the reason it is known as exclusive OR. \n\n****************************\n**Exercise 2:** In the cell below, you will create code for a neural network which performs the XOR operation. The following elements are required:\n\n1. An input weight tensor\n2. A hidden layer with two units using ReLU activation\n3. A output weight tensor\n4. An output unit with linear activation\n\nThere are 4 possible test (input) cases. Test your code for all cases.  "
    },
    {
      "metadata": {
        "trusted": false
      },
      "cell_type": "code",
      "source": "import numpy as np\nW_1 = np.array([[1.0, -1.0], [-1.0, 1.0]])\nprint(W_1)\n",
      "execution_count": null,
      "outputs": []
    },
    {
      "metadata": {
        "collapsed": true
      },
      "cell_type": "markdown",
      "source": "## 5.0 Performance Metrics\n\nNow that we have the components for training a basic neural network in place we need a way to evaluate the performance. It turns out, there is nothing special evaluation of neural network models as opposed to other machine learning models. \n\nFor regression models, one typically uses the standard metrics such as root mean square error (RMSE), mean absolute error (MAE). \n\nFor classification models, one also typically uses the standard metrics including the confusion matrix, accuracy, precision and recall. "
    }
  ],
  "metadata": {
    "anaconda-cloud": {},
    "kernelspec": {
      "name": "python3",
      "display_name": "Python 3",
      "language": "python"
    },
    "language_info": {
      "mimetype": "text/x-python",
      "nbconvert_exporter": "python",
      "name": "python",
      "pygments_lexer": "ipython3",
      "version": "3.5.4",
      "file_extension": ".py",
      "codemirror_mode": {
        "version": 3,
        "name": "ipython"
      }
    }
  },
  "nbformat": 4,
  "nbformat_minor": 1
}